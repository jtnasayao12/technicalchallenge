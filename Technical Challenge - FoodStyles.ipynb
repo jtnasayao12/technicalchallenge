{
 "cells": [
  {
   "cell_type": "markdown",
   "metadata": {},
   "source": [
    "## Import Relevant Libraries"
   ]
  },
  {
   "cell_type": "code",
   "execution_count": 3,
   "metadata": {},
   "outputs": [],
   "source": [
    "import nltk"
   ]
  },
  {
   "cell_type": "code",
   "execution_count": 108,
   "metadata": {},
   "outputs": [],
   "source": [
    "import pandas as pd\n",
    "import nltk\n",
    "from tensorflow.keras import layers\n",
    "import string\n",
    "import tensorflow as tf\n",
    "import numpy as np\n",
    "from tensorflow.keras.preprocessing.text import Tokenizer\n",
    "import matplotlib.pyplot as plt\n",
    "from sklearn.model_selection import train_test_split\n",
    "from keras.preprocessing.sequence import pad_sequences\n",
    "%matplotlib inline"
   ]
  },
  {
   "cell_type": "code",
   "execution_count": 55,
   "metadata": {},
   "outputs": [
    {
     "name": "stderr",
     "output_type": "stream",
     "text": [
      "[nltk_data] Downloading package averaged_perceptron_tagger to\n",
      "[nltk_data]     C:\\Users\\Jessica Nasayao\\AppData\\Roaming\\nltk_data...\n",
      "[nltk_data]   Package averaged_perceptron_tagger is already up-to-\n",
      "[nltk_data]       date!\n",
      "[nltk_data] Downloading package punkt to C:\\Users\\Jessica\n",
      "[nltk_data]     Nasayao\\AppData\\Roaming\\nltk_data...\n",
      "[nltk_data]   Package punkt is already up-to-date!\n"
     ]
    },
    {
     "data": {
      "text/plain": [
       "True"
      ]
     },
     "execution_count": 55,
     "metadata": {},
     "output_type": "execute_result"
    }
   ],
   "source": [
    "nltk.download('averaged_perceptron_tagger') #Download POS tagger\n",
    "nltk.download('punkt')"
   ]
  },
  {
   "cell_type": "code",
   "execution_count": 6,
   "metadata": {},
   "outputs": [],
   "source": [
    "from nltk.corpus import stopwords"
   ]
  },
  {
   "cell_type": "markdown",
   "metadata": {},
   "source": [
    "## Load data into a pandas dataframe"
   ]
  },
  {
   "cell_type": "code",
   "execution_count": 7,
   "metadata": {},
   "outputs": [],
   "source": [
    "data = pd.read_table(\"recipes.csv\", delimiter=\";\")"
   ]
  },
  {
   "cell_type": "code",
   "execution_count": 8,
   "metadata": {},
   "outputs": [
    {
     "data": {
      "text/html": [
       "<div>\n",
       "<style scoped>\n",
       "    .dataframe tbody tr th:only-of-type {\n",
       "        vertical-align: middle;\n",
       "    }\n",
       "\n",
       "    .dataframe tbody tr th {\n",
       "        vertical-align: top;\n",
       "    }\n",
       "\n",
       "    .dataframe thead th {\n",
       "        text-align: right;\n",
       "    }\n",
       "</style>\n",
       "<table border=\"1\" class=\"dataframe\">\n",
       "  <thead>\n",
       "    <tr style=\"text-align: right;\">\n",
       "      <th></th>\n",
       "      <th>Recipe Name</th>\n",
       "      <th>Review Count</th>\n",
       "      <th>Recipe Photo</th>\n",
       "      <th>Author</th>\n",
       "      <th>Prepare Time</th>\n",
       "      <th>Cook Time</th>\n",
       "      <th>Total Time</th>\n",
       "      <th>Ingredients</th>\n",
       "      <th>Directions</th>\n",
       "      <th>RecipeID</th>\n",
       "    </tr>\n",
       "  </thead>\n",
       "  <tbody>\n",
       "    <tr>\n",
       "      <th>0</th>\n",
       "      <td>Golden Crescent Rolls Recipe</td>\n",
       "      <td>304</td>\n",
       "      <td>https://images.media-allrecipes.com/userphotos...</td>\n",
       "      <td>Mike A.</td>\n",
       "      <td>25 m</td>\n",
       "      <td>15 m</td>\n",
       "      <td>3 h 10 m</td>\n",
       "      <td>yeast,water,white sugar,salt,egg,butter,flour,...</td>\n",
       "      <td>Dissolve yeast in warm water.**Stir in sugar, ...</td>\n",
       "      <td>7000</td>\n",
       "    </tr>\n",
       "    <tr>\n",
       "      <th>1</th>\n",
       "      <td>Poppy Seed Bread with Glaze Recipe</td>\n",
       "      <td>137</td>\n",
       "      <td>https://images.media-allrecipes.com/userphotos...</td>\n",
       "      <td>Christina Jun</td>\n",
       "      <td>15 m</td>\n",
       "      <td>1 h</td>\n",
       "      <td>1 h 20 m</td>\n",
       "      <td>flour,salt,baking powder,poppy,butter,vegetabl...</td>\n",
       "      <td>'Preheat oven to 350 degrees F (175 degrees C)...</td>\n",
       "      <td>7001</td>\n",
       "    </tr>\n",
       "    <tr>\n",
       "      <th>2</th>\n",
       "      <td>Applesauce Bread I Recipe</td>\n",
       "      <td>124</td>\n",
       "      <td>https://images.media-allrecipes.com/userphotos...</td>\n",
       "      <td>GAF55</td>\n",
       "      <td>10 m</td>\n",
       "      <td>1 h 20 m</td>\n",
       "      <td>1 h 30 m</td>\n",
       "      <td>flour,egg,white sugar,vegetable oil,applesauce...</td>\n",
       "      <td>Preheat oven to 350 degrees F (175 degrees C)....</td>\n",
       "      <td>7003</td>\n",
       "    </tr>\n",
       "    <tr>\n",
       "      <th>3</th>\n",
       "      <td>Apple Raisin Bread Recipe</td>\n",
       "      <td>39</td>\n",
       "      <td>https://images.media-allrecipes.com/userphotos...</td>\n",
       "      <td>Helen Hanson</td>\n",
       "      <td>15 m</td>\n",
       "      <td>1 h</td>\n",
       "      <td>1 h 15 m</td>\n",
       "      <td>flour,baking powder,baking soda,salt,cinnamon,...</td>\n",
       "      <td>Preheat oven to 350 degrees F (175 degrees C)....</td>\n",
       "      <td>7006</td>\n",
       "    </tr>\n",
       "    <tr>\n",
       "      <th>4</th>\n",
       "      <td>Buttermilk Oatmeal Bread Recipe</td>\n",
       "      <td>41</td>\n",
       "      <td>https://images.media-allrecipes.com/userphotos...</td>\n",
       "      <td>Helen Hanson</td>\n",
       "      <td>10 m</td>\n",
       "      <td>1 h</td>\n",
       "      <td>1 h 40 m</td>\n",
       "      <td>oat,buttermilk,vegetable oil,egg,brown sugar,f...</td>\n",
       "      <td>Mix oats with buttermilk.  Let stand for 1/2 h...</td>\n",
       "      <td>7007</td>\n",
       "    </tr>\n",
       "  </tbody>\n",
       "</table>\n",
       "</div>"
      ],
      "text/plain": [
       "                           Recipe Name Review Count  \\\n",
       "0        Golden Crescent Rolls Recipe           304   \n",
       "1  Poppy Seed Bread with Glaze Recipe           137   \n",
       "2           Applesauce Bread I Recipe           124   \n",
       "3           Apple Raisin Bread Recipe            39   \n",
       "4     Buttermilk Oatmeal Bread Recipe            41   \n",
       "\n",
       "                                        Recipe Photo         Author  \\\n",
       "0  https://images.media-allrecipes.com/userphotos...        Mike A.   \n",
       "1  https://images.media-allrecipes.com/userphotos...  Christina Jun   \n",
       "2  https://images.media-allrecipes.com/userphotos...          GAF55   \n",
       "3  https://images.media-allrecipes.com/userphotos...   Helen Hanson   \n",
       "4  https://images.media-allrecipes.com/userphotos...   Helen Hanson   \n",
       "\n",
       "  Prepare Time Cook Time Total Time  \\\n",
       "0         25 m      15 m   3 h 10 m   \n",
       "1         15 m       1 h   1 h 20 m   \n",
       "2         10 m  1 h 20 m   1 h 30 m   \n",
       "3         15 m       1 h   1 h 15 m   \n",
       "4         10 m       1 h   1 h 40 m   \n",
       "\n",
       "                                         Ingredients  \\\n",
       "0  yeast,water,white sugar,salt,egg,butter,flour,...   \n",
       "1  flour,salt,baking powder,poppy,butter,vegetabl...   \n",
       "2  flour,egg,white sugar,vegetable oil,applesauce...   \n",
       "3  flour,baking powder,baking soda,salt,cinnamon,...   \n",
       "4  oat,buttermilk,vegetable oil,egg,brown sugar,f...   \n",
       "\n",
       "                                          Directions  RecipeID  \n",
       "0  Dissolve yeast in warm water.**Stir in sugar, ...      7000  \n",
       "1  'Preheat oven to 350 degrees F (175 degrees C)...      7001  \n",
       "2  Preheat oven to 350 degrees F (175 degrees C)....      7003  \n",
       "3  Preheat oven to 350 degrees F (175 degrees C)....      7006  \n",
       "4  Mix oats with buttermilk.  Let stand for 1/2 h...      7007  "
      ]
     },
     "execution_count": 8,
     "metadata": {},
     "output_type": "execute_result"
    }
   ],
   "source": [
    "data.head()"
   ]
  },
  {
   "cell_type": "markdown",
   "metadata": {},
   "source": [
    "## Data processing"
   ]
  },
  {
   "cell_type": "markdown",
   "metadata": {},
   "source": [
    "We want to clean the `Directions` column so that punctuations are removed and words are transformed into lowercase."
   ]
  },
  {
   "cell_type": "code",
   "execution_count": 21,
   "metadata": {},
   "outputs": [],
   "source": [
    "def clean_text(input_text):\n",
    "    \"\"\"\n",
    "    Removes punctutations from input text and transforms the words into lowercase.\n",
    "    Parameters:\n",
    "    -----------\n",
    "    directions_text: Input text.\n",
    "    \"\"\"\n",
    "    cleaned_words = [n.translate(str.maketrans('', '', string.punctuation)).lower() for n in nltk.word_tokenize(input_text)]\n",
    "    cleaned_input_text = \" \".join(cleaned_words).strip()\n",
    "    return cleaned_input_text"
   ]
  },
  {
   "cell_type": "markdown",
   "metadata": {},
   "source": [
    "Apply the `clean_text` function to the `Directions` column."
   ]
  },
  {
   "cell_type": "code",
   "execution_count": 27,
   "metadata": {},
   "outputs": [],
   "source": [
    "data[\"Directions\"] = data[\"Directions\"].astype(\"str\")\n",
    "data[\"Cleaned Directions\"] = data[\"Directions\"].apply(clean_text)"
   ]
  },
  {
   "cell_type": "code",
   "execution_count": 28,
   "metadata": {},
   "outputs": [],
   "source": [
    "directions = data[\"Cleaned Directions\"].values"
   ]
  },
  {
   "cell_type": "markdown",
   "metadata": {},
   "source": [
    "Apply the same function `clean_text` to the `Ingredients` column."
   ]
  },
  {
   "cell_type": "code",
   "execution_count": 30,
   "metadata": {},
   "outputs": [],
   "source": [
    "data[\"Ingredients\"] = data[\"Ingredients\"].astype(\"str\")\n",
    "data[\"Cleaned Ingredients\"] = data[\"Ingredients\"].apply(clean_text)"
   ]
  },
  {
   "cell_type": "code",
   "execution_count": 31,
   "metadata": {},
   "outputs": [],
   "source": [
    "ingredients = data[\"Cleaned Ingredients\"].values"
   ]
  },
  {
   "cell_type": "markdown",
   "metadata": {},
   "source": [
    "We then tokenize both the directions and the ingredients array and convert them into token IDs (numbers) that our model can use for input. We will use the `Cleaned Directions` column as a basis for the vocabulary, assuming that all ingredients are mentioned in the directions. "
   ]
  },
  {
   "cell_type": "code",
   "execution_count": 39,
   "metadata": {},
   "outputs": [],
   "source": [
    "tokenizer = Tokenizer()\n",
    "tokenizer.fit_on_texts(directions)\n",
    "vocabulary = tokenizer.word_index"
   ]
  },
  {
   "cell_type": "code",
   "execution_count": 43,
   "metadata": {},
   "outputs": [],
   "source": [
    "directions_sequence = tokenizer.texts_to_sequences(directions)\n",
    "ingredients_sequence = tokenizer.texts_to_sequences(ingredients)"
   ]
  },
  {
   "cell_type": "markdown",
   "metadata": {},
   "source": [
    "*Note: Right now, this tokenization assumes that the ingredients are all unigrams. Therefore, bigrams in the ingredients (e.g. baking soda) might not be tagged as one token, but as two separate tokens. For now this use case will suffice.*"
   ]
  },
  {
   "cell_type": "markdown",
   "metadata": {},
   "source": [
    "For neural networks, we need to use equal-length input tokens. Let's visualize how long the directions are:"
   ]
  },
  {
   "cell_type": "code",
   "execution_count": 58,
   "metadata": {},
   "outputs": [
    {
     "data": {
      "text/plain": [
       "Text(0, 0.5, 'Frequency')"
      ]
     },
     "execution_count": 58,
     "metadata": {},
     "output_type": "execute_result"
    },
    {
     "data": {
      "image/png": "[encoded data removed]",
      "text/plain": [
       "<Figure size 432x288 with 1 Axes>"
      ]
     },
     "metadata": {
      "needs_background": "light"
     },
     "output_type": "display_data"
    }
   ],
   "source": [
    "plt.hist([len([t for t in tokens]) for tokens in directions], bins=20)\n",
    "plt.xlabel(\"Number of Tokens\")\n",
    "plt.ylabel(\"Frequency\")"
   ]
  },
  {
   "cell_type": "markdown",
   "metadata": {},
   "source": [
    "Let's use 2000 as our `max_length`."
   ]
  },
  {
   "cell_type": "code",
   "execution_count": 59,
   "metadata": {},
   "outputs": [],
   "source": [
    "max_length = 2000"
   ]
  },
  {
   "cell_type": "markdown",
   "metadata": {},
   "source": [
    "Now that we have identified the max length, we can pad the `directions_sequence`."
   ]
  },
  {
   "cell_type": "code",
   "execution_count": 68,
   "metadata": {},
   "outputs": [],
   "source": [
    "X = pad_sequences(maxlen=max_length, sequences=directions_sequence, padding=\"post\", value=0)"
   ]
  },
  {
   "cell_type": "code",
   "execution_count": 69,
   "metadata": {},
   "outputs": [
    {
     "data": {
      "text/plain": [
       "array([[465, 582,   3, ...,   0,   0,   0],\n",
       "       [ 31,  13,   5, ...,   0,   0,   0],\n",
       "       [ 31,  13,   5, ...,   0,   0,   0],\n",
       "       ...,\n",
       "       [ 31,  13,   5, ...,   0,   0,   0],\n",
       "       [ 31,  13,   5, ...,   0,   0,   0],\n",
       "       [ 31,  13,   5, ...,   0,   0,   0]])"
      ]
     },
     "execution_count": 69,
     "metadata": {},
     "output_type": "execute_result"
    }
   ],
   "source": [
    "X"
   ]
  },
  {
   "cell_type": "markdown",
   "metadata": {},
   "source": [
    "We then generate the labels based on whether a token is an ingredient or not."
   ]
  },
  {
   "cell_type": "code",
   "execution_count": 94,
   "metadata": {},
   "outputs": [],
   "source": [
    "def generate_labels(ingredients_sequence, padded_directions_sequence):\n",
    "    labels = []\n",
    "    for ingredients, directions in zip(ingredients_sequence, padded_directions_sequence):\n",
    "        label = []\n",
    "        for token in directions:\n",
    "            token_is_ingredient = token in ingredients\n",
    "            label.append(float(token_is_ingredient))\n",
    "        labels.append(label)\n",
    "    labels = np.array(labels)\n",
    "    y = labels.reshape(labels.shape[0], labels.shape[1], 1)\n",
    "    return y"
   ]
  },
  {
   "cell_type": "code",
   "execution_count": 95,
   "metadata": {},
   "outputs": [],
   "source": [
    "y = generate_labels(ingredients_sequence, X)"
   ]
  },
  {
   "cell_type": "markdown",
   "metadata": {},
   "source": [
    "We then split the model into a training set and a test set."
   ]
  },
  {
   "cell_type": "code",
   "execution_count": 98,
   "metadata": {},
   "outputs": [],
   "source": [
    "X_train, X_test, y_train, y_test = train_test_split(X, y, test_size=0.3)"
   ]
  },
  {
   "cell_type": "code",
   "execution_count": 101,
   "metadata": {},
   "outputs": [],
   "source": [
    "from keras.models import Model, Input\n",
    "from keras.layers import LSTM, Embedding, Dense, TimeDistributed, Dropout, Bidirectional\n"
   ]
  },
  {
   "cell_type": "code",
   "execution_count": 109,
   "metadata": {},
   "outputs": [],
   "source": [
    "model = tf.keras.Sequential()\n",
    "model.add(layers.Embedding(input_dim=len(vocabulary), mask_zero=True, output_dim=50))\n",
    "model.add(layers.SpatialDropout1D(0.2))\n",
    "model.add(layers.Bidirectional(layers.LSTM(units=64, return_sequences=True)))\n",
    "model.add(layers.SpatialDropout1D(0.2))\n",
    "model.add(layers.Bidirectional(layers.LSTM(units=64, return_sequences=True)))\n",
    "model.add(layers.TimeDistributed(layers.Dense(1, activation='sigmoid')))"
   ]
  },
  {
   "cell_type": "code",
   "execution_count": 111,
   "metadata": {},
   "outputs": [],
   "source": [
    "model.compile(optimizer=tf.keras.optimizers.Adam(),\n",
    "              loss='binary_crossentropy',\n",
    "              metrics=['accuracy'])"
   ]
  },
  {
   "cell_type": "code",
   "execution_count": 112,
   "metadata": {},
   "outputs": [
    {
     "name": "stdout",
     "output_type": "stream",
     "text": [
      "Model: \"sequential_1\"\n",
      "_________________________________________________________________\n",
      "Layer (type)                 Output Shape              Param #   \n",
      "=================================================================\n",
      "embedding (Embedding)        (None, None, 50)          321250    \n",
      "_________________________________________________________________\n",
      "spatial_dropout1d (SpatialDr (None, None, 50)          0         \n",
      "_________________________________________________________________\n",
      "bidirectional (Bidirectional (None, None, 128)         58880     \n",
      "_________________________________________________________________\n",
      "spatial_dropout1d_1 (Spatial (None, None, 128)         0         \n",
      "_________________________________________________________________\n",
      "bidirectional_1 (Bidirection (None, None, 128)         98816     \n",
      "_________________________________________________________________\n",
      "time_distributed (TimeDistri (None, None, 1)           129       \n",
      "=================================================================\n",
      "Total params: 479,075\n",
      "Trainable params: 479,075\n",
      "Non-trainable params: 0\n",
      "_________________________________________________________________\n"
     ]
    }
   ],
   "source": [
    "model.summary()"
   ]
  },
  {
   "cell_type": "code",
   "execution_count": null,
   "metadata": {},
   "outputs": [
    {
     "name": "stdout",
     "output_type": "stream",
     "text": [
      "Epoch 1/10\n",
      " 6/31 [====>.........................] - ETA: 2:31:11 - loss: 0.0282 - accuracy: 0.8220"
     ]
    }
   ],
   "source": [
    "history = model.fit(X_train, y_train, epochs=10, batch_size=256, validation_split=0.1)"
   ]
  },
  {
   "cell_type": "code",
   "execution_count": null,
   "metadata": {},
   "outputs": [],
   "source": [
    "plt.plot(history.history[\"loss\"], label=\"trn_loss\");\n",
    "plt.plot(history.history[\"val_loss\"], label=\"val_loss\");\n",
    "plt.legend();\n",
    "plt.title(\"Loss\");"
   ]
  },
  {
   "cell_type": "code",
   "execution_count": null,
   "metadata": {},
   "outputs": [],
   "source": [
    "plt.plot(history.history[\"acc\"], label=\"trn_acc\");\n",
    "plt.plot(history.history[\"val_acc\"], label=\"val_acc\");\n",
    "plt.legend();\n",
    "plt.title(\"Accuracy\");"
   ]
  },
  {
   "cell_type": "code",
   "execution_count": null,
   "metadata": {},
   "outputs": [],
   "source": []
  }
 ],
 "metadata": {
  "kernelspec": {
   "display_name": "Python 3",
   "language": "python",
   "name": "python3"
  },
  "language_info": {
   "codemirror_mode": {
    "name": "ipython",
    "version": 3
   },
   "file_extension": ".py",
   "mimetype": "text/x-python",
   "name": "python",
   "nbconvert_exporter": "python",
   "pygments_lexer": "ipython3",
   "version": "3.7.3"
  }
 },
 "nbformat": 4,
 "nbformat_minor": 2
}
